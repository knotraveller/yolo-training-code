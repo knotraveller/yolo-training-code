{
 "cells": [
  {
   "cell_type": "code",
   "execution_count": null,
   "id": "c8865caa",
   "metadata": {},
   "outputs": [],
   "source": [
    "import importlib\n",
    "importlib.reload(main)"
   ]
  },
  {
   "cell_type": "code",
   "execution_count": null,
   "id": "0d1bc1a4",
   "metadata": {},
   "outputs": [],
   "source": []
  },
  {
   "cell_type": "code",
   "execution_count": 1,
   "id": "f1d19ef1",
   "metadata": {},
   "outputs": [
    {
     "name": "stderr",
     "output_type": "stream",
     "text": [
      "e:\\software\\anaconda\\envs\\roboflow\\lib\\site-packages\\onnx2pytorch\\convert\\layer.py:30: UserWarning: The given NumPy array is not writable, and PyTorch does not support non-writable tensors. This means writing to this tensor will result in undefined behavior. You may want to copy the array to protect its data or make it writable before converting it to a tensor. This type of warning will be suppressed for the rest of this program. (Triggered internally at C:\\actions-runner\\_work\\pytorch\\pytorch\\pytorch\\torch\\csrc\\utils\\tensor_numpy.cpp:209.)\n",
      "  layer.weight.data = torch.from_numpy(numpy_helper.to_array(weight))\n",
      "e:\\software\\anaconda\\envs\\roboflow\\lib\\site-packages\\onnx2pytorch\\convert\\attribute.py:106: UserWarning: Pytorch's interpolate uses no coordinate_transformation_mode=asymmetric. Result might differ.\n",
      "  warnings.warn(\n",
      "e:\\software\\anaconda\\envs\\roboflow\\lib\\site-packages\\onnx2pytorch\\operations\\resize.py:16: UserWarning: Pytorch's interpolate uses no cubic_coeff_a. Result might differ.\n",
      "  warnings.warn(\n",
      "e:\\software\\anaconda\\envs\\roboflow\\lib\\site-packages\\onnx2pytorch\\operations\\resize.py:16: UserWarning: Pytorch's interpolate uses no nearest_mode. Result might differ.\n",
      "  warnings.warn(\n"
     ]
    }
   ],
   "source": [
    "# onnx to pt\n",
    "import onnx\n",
    "from onnx2pytorch import ConvertModel\n",
    "import torch\n",
    "import numpy as np\n",
    "\n",
    "# 1) 加载 onnx 模型\n",
    "onnx_model = onnx.load(\"model/armor.onnx\")\n",
    "\n",
    "# 可选：检查 onnx 是否有效\n",
    "import onnx.checker\n",
    "onnx.checker.check_model(onnx_model)  # 若报错说明 onnx 本身有问题\n",
    "\n",
    "# 2) 转换为 PyTorch nn.Module\n",
    "pytorch_model = ConvertModel(onnx_model)\n",
    "\n",
    "# 3) 测试一次 forward（确保输入 shape/类型正确）\n",
    "# 这里假设模型期望输入是 [1,3,H,W]，H/W 换成你模型实际的尺寸（例如 640）\n",
    "# dummy = torch.randn(1, 3, 640, 640)  # 根据你的模型输入改形状\n",
    "# with torch.no_grad():\n",
    "#     out = pytorch_model(dummy)\n",
    "# print(\"forward output shape:\", type(out), getattr(out, \"shape\", None))\n",
    "\n",
    "# 4) 保存模型 —— 两种常用方法：\n",
    "# A) 保存 whole module（序列化完整对象 — 以后 torch.load 可以直接恢复）\n",
    "torch.save(pytorch_model, \"model/armor.pt\")\n",
    "\n",
    "# B) 或者保存 state_dict（更常见、跨环境更稳妥）\n",
    "# torch.save(pytorch_model.state_dict(), \"model/armor_state_dict.pt\")\n",
    "# 若保存 state_dict，加载时需要重新 ConvertModel(onnx_model) 再 load_state_dict\n",
    "\n",
    "# 示范如何用 state_dict 加载（之后在另一个脚本里）：\n",
    "# model = ConvertModel(onnx.load(\"model/armor.onnx\"))\n",
    "# model.load_state_dict(torch.load(\"model/armor_state_dict.pt\"))\n",
    "# model.eval()\n"
   ]
  },
  {
   "cell_type": "code",
   "execution_count": 2,
   "id": "9a179f7d",
   "metadata": {},
   "outputs": [
    {
     "name": "stdout",
     "output_type": "stream",
     "text": [
      "loading Roboflow workspace...\n",
      "loading Roboflow project...\n"
     ]
    },
    {
     "ename": "TypeError",
     "evalue": "argument of type 'ConvertModel' is not iterable",
     "output_type": "error",
     "traceback": [
      "\u001b[1;31m---------------------------------------------------------------------------\u001b[0m",
      "\u001b[1;31mTypeError\u001b[0m                                 Traceback (most recent call last)",
      "Cell \u001b[1;32mIn[2], line 12\u001b[0m\n\u001b[0;32m      9\u001b[0m version \u001b[38;5;241m=\u001b[39m project\u001b[38;5;241m.\u001b[39mversion(\u001b[38;5;241m1\u001b[39m)\n\u001b[0;32m     11\u001b[0m \u001b[38;5;66;03m#example1 - directory path is \"training1/model1.pt\" for yolov8 model\u001b[39;00m\n\u001b[1;32m---> 12\u001b[0m \u001b[43mversion\u001b[49m\u001b[38;5;241;43m.\u001b[39;49m\u001b[43mdeploy\u001b[49m\u001b[43m(\u001b[49m\u001b[38;5;124;43m\"\u001b[39;49m\u001b[38;5;124;43myolov8\u001b[39;49m\u001b[38;5;124;43m\"\u001b[39;49m\u001b[43m,\u001b[49m\u001b[43m \u001b[49m\u001b[38;5;124;43m\"\u001b[39;49m\u001b[38;5;124;43mmodel\u001b[39;49m\u001b[38;5;124;43m\"\u001b[39;49m\u001b[43m,\u001b[49m\u001b[43m \u001b[49m\u001b[38;5;124;43m\"\u001b[39;49m\u001b[38;5;124;43marmor.pt\u001b[39;49m\u001b[38;5;124;43m\"\u001b[39;49m\u001b[43m)\u001b[49m\n\u001b[0;32m     14\u001b[0m \u001b[38;5;66;03m#example2 - directory path is \"training1/weights/best.pt\" for yolov8 model\u001b[39;00m\n\u001b[0;32m     15\u001b[0m \u001b[38;5;66;03m# version.deploy(\"yolov8m\", \"training1\")\u001b[39;00m\n",
      "File \u001b[1;32me:\\software\\anaconda\\envs\\roboflow\\lib\\site-packages\\roboflow\\core\\version.py:480\u001b[0m, in \u001b[0;36mVersion.deploy\u001b[1;34m(self, model_type, model_path, filename)\u001b[0m\n\u001b[0;32m    472\u001b[0m \u001b[38;5;250m\u001b[39m\u001b[38;5;124;03m\"\"\"Uploads provided weights file to Roboflow.\u001b[39;00m\n\u001b[0;32m    473\u001b[0m \n\u001b[0;32m    474\u001b[0m \u001b[38;5;124;03mArgs:\u001b[39;00m\n\u001b[1;32m   (...)\u001b[0m\n\u001b[0;32m    477\u001b[0m \u001b[38;5;124;03m    filename (str, optional): The name of the weights file. Defaults to \"weights/best.pt\".\u001b[39;00m\n\u001b[0;32m    478\u001b[0m \u001b[38;5;124;03m\"\"\"\u001b[39;00m\n\u001b[0;32m    479\u001b[0m model_type \u001b[38;5;241m=\u001b[39m normalize_yolo_model_type(model_type)\n\u001b[1;32m--> 480\u001b[0m zip_file_name \u001b[38;5;241m=\u001b[39m \u001b[43mprocess\u001b[49m\u001b[43m(\u001b[49m\u001b[43mmodel_type\u001b[49m\u001b[43m,\u001b[49m\u001b[43m \u001b[49m\u001b[43mmodel_path\u001b[49m\u001b[43m,\u001b[49m\u001b[43m \u001b[49m\u001b[43mfilename\u001b[49m\u001b[43m)\u001b[49m\n\u001b[0;32m    482\u001b[0m \u001b[38;5;28;01mif\u001b[39;00m zip_file_name \u001b[38;5;129;01mis\u001b[39;00m \u001b[38;5;28;01mNone\u001b[39;00m:\n\u001b[0;32m    483\u001b[0m     \u001b[38;5;28;01mraise\u001b[39;00m \u001b[38;5;167;01mRuntimeError\u001b[39;00m(\u001b[38;5;124m\"\u001b[39m\u001b[38;5;124mFailed to process model\u001b[39m\u001b[38;5;124m\"\u001b[39m)\n",
      "File \u001b[1;32me:\\software\\anaconda\\envs\\roboflow\\lib\\site-packages\\roboflow\\util\\model_processor.py:14\u001b[0m, in \u001b[0;36mprocess\u001b[1;34m(model_type, model_path, filename)\u001b[0m\n\u001b[0;32m     12\u001b[0m \u001b[38;5;28;01mdef\u001b[39;00m\u001b[38;5;250m \u001b[39m\u001b[38;5;21mprocess\u001b[39m(model_type: \u001b[38;5;28mstr\u001b[39m, model_path: \u001b[38;5;28mstr\u001b[39m, filename: \u001b[38;5;28mstr\u001b[39m) \u001b[38;5;241m-\u001b[39m\u001b[38;5;241m>\u001b[39m \u001b[38;5;28mstr\u001b[39m:\n\u001b[0;32m     13\u001b[0m     processor \u001b[38;5;241m=\u001b[39m _get_processor_function(model_type)\n\u001b[1;32m---> 14\u001b[0m     \u001b[38;5;28;01mreturn\u001b[39;00m \u001b[43mprocessor\u001b[49m\u001b[43m(\u001b[49m\u001b[43mmodel_type\u001b[49m\u001b[43m,\u001b[49m\u001b[43m \u001b[49m\u001b[43mmodel_path\u001b[49m\u001b[43m,\u001b[49m\u001b[43m \u001b[49m\u001b[43mfilename\u001b[49m\u001b[43m)\u001b[49m\n",
      "File \u001b[1;32me:\\software\\anaconda\\envs\\roboflow\\lib\\site-packages\\roboflow\\util\\model_processor.py:137\u001b[0m, in \u001b[0;36m_process_yolo\u001b[1;34m(model_type, model_path, filename)\u001b[0m\n\u001b[0;32m    133\u001b[0m     print_warn_for_wrong_dependencies_versions([(\u001b[38;5;124m\"\u001b[39m\u001b[38;5;124multralytics\u001b[39m\u001b[38;5;124m\"\u001b[39m, \u001b[38;5;124m\"\u001b[39m\u001b[38;5;124m==\u001b[39m\u001b[38;5;124m\"\u001b[39m, \u001b[38;5;124m\"\u001b[39m\u001b[38;5;124m8.3.63\u001b[39m\u001b[38;5;124m\"\u001b[39m)], ask_to_continue\u001b[38;5;241m=\u001b[39m\u001b[38;5;28;01mTrue\u001b[39;00m)\n\u001b[0;32m    135\u001b[0m model \u001b[38;5;241m=\u001b[39m torch\u001b[38;5;241m.\u001b[39mload(os\u001b[38;5;241m.\u001b[39mpath\u001b[38;5;241m.\u001b[39mjoin(model_path, filename), weights_only\u001b[38;5;241m=\u001b[39m\u001b[38;5;28;01mFalse\u001b[39;00m)\n\u001b[1;32m--> 137\u001b[0m model_instance \u001b[38;5;241m=\u001b[39m model[\u001b[38;5;124m\"\u001b[39m\u001b[38;5;124mmodel\u001b[39m\u001b[38;5;124m\"\u001b[39m] \u001b[38;5;28;01mif\u001b[39;00m \u001b[38;5;124;43m\"\u001b[39;49m\u001b[38;5;124;43mmodel\u001b[39;49m\u001b[38;5;124;43m\"\u001b[39;49m\u001b[43m \u001b[49m\u001b[38;5;129;43;01min\u001b[39;49;00m\u001b[43m \u001b[49m\u001b[43mmodel\u001b[49m \u001b[38;5;129;01mand\u001b[39;00m model[\u001b[38;5;124m\"\u001b[39m\u001b[38;5;124mmodel\u001b[39m\u001b[38;5;124m\"\u001b[39m] \u001b[38;5;129;01mis\u001b[39;00m \u001b[38;5;129;01mnot\u001b[39;00m \u001b[38;5;28;01mNone\u001b[39;00m \u001b[38;5;28;01melse\u001b[39;00m model[\u001b[38;5;124m\"\u001b[39m\u001b[38;5;124mema\u001b[39m\u001b[38;5;124m\"\u001b[39m]\n\u001b[0;32m    139\u001b[0m \u001b[38;5;28;01mif\u001b[39;00m \u001b[38;5;28misinstance\u001b[39m(model_instance\u001b[38;5;241m.\u001b[39mnames, \u001b[38;5;28mlist\u001b[39m):\n\u001b[0;32m    140\u001b[0m     class_names \u001b[38;5;241m=\u001b[39m model_instance\u001b[38;5;241m.\u001b[39mnames\n",
      "\u001b[1;31mTypeError\u001b[0m: argument of type 'ConvertModel' is not iterable"
     ]
    }
   ],
   "source": [
    "# load the model to Roboflow\n",
    "\n",
    "from roboflow import Roboflow\n",
    "\n",
    "rf = Roboflow(api_key=\"rxgD3vU1PAkQz73bYYtN\")\n",
    "project = rf.workspace().project(\"rmcars_test-eena7\")\n",
    "\n",
    "#can specify weights_filename, default is \"weights/best.pt\"\n",
    "version = project.version(1)\n",
    "\n",
    "#example1 - directory path is \"training1/model1.pt\" for yolov8 model\n",
    "version.deploy(\"yolov8\", \"model\", \"armor.pt\")\n",
    "\n",
    "#example2 - directory path is \"training1/weights/best.pt\" for yolov8 model\n",
    "# version.deploy(\"yolov8m\", \"training1\")"
   ]
  }
 ],
 "metadata": {
  "kernelspec": {
   "display_name": "roboflow",
   "language": "python",
   "name": "python3"
  },
  "language_info": {
   "codemirror_mode": {
    "name": "ipython",
    "version": 3
   },
   "file_extension": ".py",
   "mimetype": "text/x-python",
   "name": "python",
   "nbconvert_exporter": "python",
   "pygments_lexer": "ipython3",
   "version": "3.10.18"
  }
 },
 "nbformat": 4,
 "nbformat_minor": 5
}
