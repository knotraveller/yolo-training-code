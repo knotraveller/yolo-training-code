{
 "cells": [
  {
   "cell_type": "code",
   "execution_count": null,
   "id": "c8865caa",
   "metadata": {},
   "outputs": [],
   "source": [
    "import importlib\n",
    "importlib.reload(main)"
   ]
  },
  {
   "cell_type": "code",
   "execution_count": 9,
   "id": "0d1bc1a4",
   "metadata": {},
   "outputs": [
    {
     "data": {
      "text/plain": [
       "False"
      ]
     },
     "execution_count": 9,
     "metadata": {},
     "output_type": "execute_result"
    }
   ],
   "source": [
    "import torch\n",
    "\n",
    "torch.cuda.is_available()"
   ]
  },
  {
   "cell_type": "code",
   "execution_count": 5,
   "id": "f1d19ef1",
   "metadata": {},
   "outputs": [],
   "source": [
    "import yaml\n",
    "import pathlib\n",
    "file = pathlib.Path('config/config.yaml')\n",
    "# with open(file, 'r') as f:\n",
    "#     config = yaml.safe_load(f)\n",
    "#     print(config)\n",
    "\n",
    "with open(file, 'w') as f:\n",
    "    yaml.dump(params, f, default_flow_style=False)\n",
    "\n"
   ]
  },
  {
   "cell_type": "code",
   "execution_count": 6,
   "id": "6eca6f46",
   "metadata": {},
   "outputs": [
    {
     "name": "stdout",
     "output_type": "stream",
     "text": [
      "{'batch': 0.9, 'cache': False, 'classes': None, 'data': './datasets/data', 'data_root': 'data', 'device': -1, 'epochs': 10, 'exist_ok': False, 'log_level': 'DEBUG', 'model': 'yolo12n.pt', 'model_name': 'yolo12n', 'noload': False, 'patience': 100, 'profile': False, 'resume': False, 'save': True, 'save_period': -1, 'train': True, 'workers': 8}\n"
     ]
    }
   ],
   "source": [
    "with open(file, 'r') as f:\n",
    "    config = yaml.safe_load(f)\n",
    "    print(config)"
   ]
  }
 ],
 "metadata": {
  "kernelspec": {
   "display_name": "yolo",
   "language": "python",
   "name": "python3"
  },
  "language_info": {
   "codemirror_mode": {
    "name": "ipython",
    "version": 3
   },
   "file_extension": ".py",
   "mimetype": "text/x-python",
   "name": "python",
   "nbconvert_exporter": "python",
   "pygments_lexer": "ipython3",
   "version": "3.10.13"
  }
 },
 "nbformat": 4,
 "nbformat_minor": 5
}
